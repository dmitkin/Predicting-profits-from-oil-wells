{
 "cells": [
  {
   "cell_type": "markdown",
   "metadata": {},
   "source": [
    "# Выбор локации для скважины"
   ]
  },
  {
   "cell_type": "markdown",
   "metadata": {},
   "source": [
    "Добывающей компании нефтянной компании нужно решить, где бурить новую скважину.\n",
    "\n",
    "Нам предоставлены пробы нефти в трёх регионах: в каждом 10 000 месторождений, где измерили качество нефти и объём её запасов. Необходимо построить модель машинного обучения, которая поможет определить регион, где добыча принесёт наибольшую прибыль.\n",
    "\n",
    "Шаги для выбора локации:\n",
    "\n",
    "- В избранном регионе ищут месторождения, для каждого определяют значения признаков;\n",
    "- Строят модель и оценивают объём запасов;\n",
    "- Выбирают месторождения с самым высокими оценками значений. Количество месторождений зависит от бюджета компании и стоимости разработки одной скважины;\n",
    "- Прибыль равна суммарной прибыли отобранных месторождений."
   ]
  },
  {
   "cell_type": "markdown",
   "metadata": {},
   "source": [
    "## Загрузка и подготовка данных"
   ]
  },
  {
   "cell_type": "code",
   "execution_count": 61,
   "metadata": {},
   "outputs": [],
   "source": [
    "import pandas as pd\n",
    "import matplotlib.pyplot as plt\n",
    "import numpy as np\n",
    "from sklearn.linear_model import LinearRegression\n",
    "from sklearn.model_selection import train_test_split\n",
    "from sklearn.metrics import mean_squared_error\n",
    "from sklearn.preprocessing import StandardScaler"
   ]
  },
  {
   "cell_type": "code",
   "execution_count": 62,
   "metadata": {},
   "outputs": [],
   "source": [
    "df1 = pd.read_csv('/datasets/geo_data_0.csv')\n",
    "df2 = pd.read_csv('/datasets/geo_data_1.csv')\n",
    "df3 = pd.read_csv('/datasets/geo_data_2.csv')"
   ]
  },
  {
   "cell_type": "code",
   "execution_count": 63,
   "metadata": {},
   "outputs": [
    {
     "name": "stdout",
     "output_type": "stream",
     "text": [
      "<class 'pandas.core.frame.DataFrame'>\n",
      "RangeIndex: 100000 entries, 0 to 99999\n",
      "Data columns (total 5 columns):\n",
      " #   Column   Non-Null Count   Dtype  \n",
      "---  ------   --------------   -----  \n",
      " 0   id       100000 non-null  object \n",
      " 1   f0       100000 non-null  float64\n",
      " 2   f1       100000 non-null  float64\n",
      " 3   f2       100000 non-null  float64\n",
      " 4   product  100000 non-null  float64\n",
      "dtypes: float64(4), object(1)\n",
      "memory usage: 3.8+ MB\n"
     ]
    }
   ],
   "source": [
    "df1.info()"
   ]
  },
  {
   "cell_type": "code",
   "execution_count": 64,
   "metadata": {},
   "outputs": [
    {
     "name": "stdout",
     "output_type": "stream",
     "text": [
      "<class 'pandas.core.frame.DataFrame'>\n",
      "RangeIndex: 100000 entries, 0 to 99999\n",
      "Data columns (total 5 columns):\n",
      " #   Column   Non-Null Count   Dtype  \n",
      "---  ------   --------------   -----  \n",
      " 0   id       100000 non-null  object \n",
      " 1   f0       100000 non-null  float64\n",
      " 2   f1       100000 non-null  float64\n",
      " 3   f2       100000 non-null  float64\n",
      " 4   product  100000 non-null  float64\n",
      "dtypes: float64(4), object(1)\n",
      "memory usage: 3.8+ MB\n"
     ]
    }
   ],
   "source": [
    "df2.info()"
   ]
  },
  {
   "cell_type": "code",
   "execution_count": 65,
   "metadata": {},
   "outputs": [
    {
     "name": "stdout",
     "output_type": "stream",
     "text": [
      "<class 'pandas.core.frame.DataFrame'>\n",
      "RangeIndex: 100000 entries, 0 to 99999\n",
      "Data columns (total 5 columns):\n",
      " #   Column   Non-Null Count   Dtype  \n",
      "---  ------   --------------   -----  \n",
      " 0   id       100000 non-null  object \n",
      " 1   f0       100000 non-null  float64\n",
      " 2   f1       100000 non-null  float64\n",
      " 3   f2       100000 non-null  float64\n",
      " 4   product  100000 non-null  float64\n",
      "dtypes: float64(4), object(1)\n",
      "memory usage: 3.8+ MB\n"
     ]
    }
   ],
   "source": [
    "df3.info()"
   ]
  },
  {
   "cell_type": "markdown",
   "metadata": {},
   "source": [
    "Нам предоставленны данные георазведки трех регионов, каждый регион находится в отдельном файле. Целевой признак `product` - объем запасов нефти в скважинах региона, `id` - идентификатор месторождения, `f0`, `f1`, `f2` - значимые признаки."
   ]
  },
  {
   "cell_type": "code",
   "execution_count": 66,
   "metadata": {},
   "outputs": [
    {
     "data": {
      "text/plain": [
       "(0, 0, 0)"
      ]
     },
     "execution_count": 66,
     "metadata": {},
     "output_type": "execute_result"
    }
   ],
   "source": [
    "df1.duplicated().sum(), df2.duplicated().sum(), df3.duplicated().sum()"
   ]
  },
  {
   "cell_type": "markdown",
   "metadata": {},
   "source": [
    "В данных отсутствуют пропуски и дубликаты."
   ]
  },
  {
   "cell_type": "markdown",
   "metadata": {},
   "source": [
    "## Обучение и проверка модели"
   ]
  },
  {
   "cell_type": "markdown",
   "metadata": {},
   "source": [
    "Создадим функцию которая будет принимать датафреймы и возвращать уже обученные модели."
   ]
  },
  {
   "cell_type": "code",
   "execution_count": 67,
   "metadata": {},
   "outputs": [],
   "source": [
    "def personal_model(df):\n",
    "    \n",
    "    features_with_id = df.drop(['product'], axis=1)\n",
    "    features = features_with_id.drop(['id'], axis=1)\n",
    "    target = df['product']\n",
    "    \n",
    "    features_train, features_valid, target_train, target_valid = train_test_split(\n",
    "        features, target, test_size=0.25, random_state=123)\n",
    "\n",
    "    model = LinearRegression()\n",
    "    model.fit(features_train, target_train)\n",
    "    predicted_valid = model.predict(features_valid)\n",
    "    rmse = mean_squared_error(target_valid, predicted_valid, squared=False)\n",
    "    predicted_mean = predicted_valid.mean()\n",
    "    \n",
    "    print(f'RMSE модели = {rmse}, средний запас предсказанного сырья = {predicted_mean}')\n",
    "    plt.hist(target_train)\n",
    "    plt.show()\n",
    "    return model, features_with_id"
   ]
  },
  {
   "cell_type": "markdown",
   "metadata": {},
   "source": [
    "Создадим три модели обученные на данных разных регионов и построим графики распределения целевых признаков."
   ]
  },
  {
   "cell_type": "code",
   "execution_count": 68,
   "metadata": {},
   "outputs": [
    {
     "name": "stdout",
     "output_type": "stream",
     "text": [
      "RMSE модели = 37.64786282376177, средний запас предсказанного сырья = 92.54936189116306\n"
     ]
    },
    {
     "data": {
      "image/png": "[encoded data removed]",
      "text/plain": [
       "<Figure size 432x288 with 1 Axes>"
      ]
     },
     "metadata": {
      "needs_background": "light"
     },
     "output_type": "display_data"
    }
   ],
   "source": [
    "model_1, features_with_id_1 = personal_model(df1)"
   ]
  },
  {
   "cell_type": "code",
   "execution_count": 69,
   "metadata": {},
   "outputs": [
    {
     "name": "stdout",
     "output_type": "stream",
     "text": [
      "RMSE модели = 0.8954139804944313, средний запас предсказанного сырья = 69.28001860653976\n"
     ]
    },
    {
     "data": {
      "image/png": "[encoded data removed]",
      "text/plain": [
       "<Figure size 432x288 with 1 Axes>"
      ]
     },
     "metadata": {
      "needs_background": "light"
     },
     "output_type": "display_data"
    }
   ],
   "source": [
    "model_2, features_with_id_2 = personal_model(df2)"
   ]
  },
  {
   "cell_type": "code",
   "execution_count": 70,
   "metadata": {
    "scrolled": true
   },
   "outputs": [
    {
     "name": "stdout",
     "output_type": "stream",
     "text": [
      "RMSE модели = 40.12803006598514, средний запас предсказанного сырья = 95.09859933591373\n"
     ]
    },
    {
     "data": {
      "image/png": "[encoded data removed]",
      "text/plain": [
       "<Figure size 432x288 with 1 Axes>"
      ]
     },
     "metadata": {
      "needs_background": "light"
     },
     "output_type": "display_data"
    }
   ],
   "source": [
    "model_3, features_with_id_3 = personal_model(df3)"
   ]
  },
  {
   "cell_type": "markdown",
   "metadata": {},
   "source": [
    "В модели построенной на данных второго региона получилось очень низкое значение RMSE, что говорит о высоком качестве предсказаний модели. Также на графиках мы можем обнаружить, что распределение целевого признака во втором регионе практически равномерное с выбросами в начале и в конце графика. В первом и третьем регионе нормальные распределения целевого признака c примерно одинаковыми показателями RMSE. Средний запас сырья при этом во втором регионе (69) значительно уступает первому (92) и третьему (95) регионам."
   ]
  },
  {
   "cell_type": "markdown",
   "metadata": {},
   "source": [
    "## Подготовка к расчёту прибыли"
   ]
  },
  {
   "cell_type": "code",
   "execution_count": 71,
   "metadata": {},
   "outputs": [
    {
     "data": {
      "text/plain": [
       "111.11111111111111"
      ]
     },
     "execution_count": 71,
     "metadata": {},
     "output_type": "execute_result"
    }
   ],
   "source": [
    "BUDGET = 10_000_000_000\n",
    "REVENUE_PER_UNIT = 450_000\n",
    "min_unit_volume = BUDGET / (REVENUE_PER_UNIT * 200)\n",
    "min_unit_volume"
   ]
  },
  {
   "cell_type": "markdown",
   "metadata": {},
   "source": [
    "Исходя из рассчетов, получается, что для безубыточной разработки скважины необходимый объем добычи составляет не менее 112 тыс. баррелей.\n",
    "\n",
    "Рассчитаем средний объем добычи в каждом из регионов."
   ]
  },
  {
   "cell_type": "code",
   "execution_count": 72,
   "metadata": {},
   "outputs": [
    {
     "data": {
      "text/plain": [
       "92.50000000000001"
      ]
     },
     "execution_count": 72,
     "metadata": {},
     "output_type": "execute_result"
    }
   ],
   "source": [
    "df1['product'].mean()"
   ]
  },
  {
   "cell_type": "code",
   "execution_count": 73,
   "metadata": {},
   "outputs": [
    {
     "data": {
      "text/plain": [
       "68.82500000000002"
      ]
     },
     "execution_count": 73,
     "metadata": {},
     "output_type": "execute_result"
    }
   ],
   "source": [
    "df2['product'].mean()"
   ]
  },
  {
   "cell_type": "code",
   "execution_count": 74,
   "metadata": {},
   "outputs": [
    {
     "data": {
      "text/plain": [
       "95.00000000000004"
      ]
     },
     "execution_count": 74,
     "metadata": {},
     "output_type": "execute_result"
    }
   ],
   "source": [
    "df3['product'].mean()"
   ]
  },
  {
   "cell_type": "markdown",
   "metadata": {},
   "source": [
    "Во втором регионе наблюдаются самые низкие показатели объема добычи нефти, однако, как мы заметили ранее, в этом регионе модель наиболее успешно предсказывает показатели по предоставленным признакам."
   ]
  },
  {
   "cell_type": "markdown",
   "metadata": {},
   "source": [
    "## Расчёт прибыли и рисков "
   ]
  },
  {
   "cell_type": "markdown",
   "metadata": {},
   "source": [
    "Определим функцию для подсчета прибыли."
   ]
  },
  {
   "cell_type": "code",
   "execution_count": 78,
   "metadata": {},
   "outputs": [],
   "source": [
    "def profit_calc(df, features_with_id, model):\n",
    "    features = features_with_id.sample(n=500, random_state=random, replace=True)\n",
    "    predict_product = model.predict(features.loc[:, 'f0':'f2'])\n",
    "    features['predicted_values'] = predict_product\n",
    "    max_predicted_profit_list_id = features.sort_values(by='predicted_values', ascending=False)[:200]['id']\n",
    "    real_values_list = df[df['id'].isin(max_predicted_profit_list_id)]['product']\n",
    "    profit = real_values_list.sum() * REVENUE_PER_UNIT - BUDGET\n",
    "    return profit"
   ]
  },
  {
   "cell_type": "markdown",
   "metadata": {},
   "source": [
    "_____________________________"
   ]
  },
  {
   "cell_type": "markdown",
   "metadata": {},
   "source": [
    "Исходя из полученных данных и моделей, воспользуемся техникой _Bootstrap_ для рассчетов прибыли и рисков каждого региона."
   ]
  },
  {
   "cell_type": "code",
   "execution_count": 79,
   "metadata": {},
   "outputs": [
    {
     "name": "stdout",
     "output_type": "stream",
     "text": [
      "Средняя прибыль для первого региона составляет 395.65 млн. руб, \n",
      "95% доверительный интервал находится в диапазоне (-106.36, 891.16) млн. руб, \n",
      "Риск убытков составляет 6.90%.\n"
     ]
    }
   ],
   "source": [
    "# Рассчеты для первого региона\n",
    "\n",
    "random = np.random.RandomState(123)\n",
    "\n",
    "bootstrap_profit_list = []\n",
    "\n",
    "for i in range(1000):    \n",
    "    profit = profit_calc(df1, features_with_id_1, model_1)\n",
    "    bootstrap_profit_list.append(profit)\n",
    "        \n",
    "bootstrap_profit_list = pd.Series(bootstrap_profit_list)\n",
    "mean_profit = bootstrap_profit_list.mean()\n",
    "confidence_interval_95 = ((bootstrap_profit_list.quantile(0.025) / 1_000_000).round(2), (bootstrap_profit_list.quantile(0.975) / 1_000_000).round(2))\n",
    "loss_prob = (bootstrap_profit_list < 0).mean()\n",
    "\n",
    "print(f'Средняя прибыль для первого региона составляет {mean_profit / 1_000_000:.2f} млн. руб, \\n\\\n",
    "95% доверительный интервал находится в диапазоне {confidence_interval_95} млн. руб, \\n\\\n",
    "Риск убытков составляет {loss_prob:.2%}.')"
   ]
  },
  {
   "cell_type": "code",
   "execution_count": 80,
   "metadata": {},
   "outputs": [
    {
     "name": "stdout",
     "output_type": "stream",
     "text": [
      "Средняя прибыль для второго региона составляет 425.28 млн. руб, \n",
      "95% доверительный интервал находится в диапазоне (25.37, 815.9) млн. руб, \n",
      "Риск убытков составляет 1.90%.\n"
     ]
    }
   ],
   "source": [
    "# Рассчеты для второго региона\n",
    "\n",
    "random = np.random.RandomState(123)\n",
    "\n",
    "bootstrap_profit_list = []\n",
    "\n",
    "for i in range(1000):    \n",
    "    profit = profit_calc(df2, features_with_id_2, model_2)\n",
    "    bootstrap_profit_list.append(profit)\n",
    "        \n",
    "bootstrap_profit_list = pd.Series(bootstrap_profit_list)\n",
    "mean_profit = bootstrap_profit_list.mean()\n",
    "confidence_interval_95 = ((bootstrap_profit_list.quantile(0.025) / 1_000_000).round(2), (bootstrap_profit_list.quantile(0.975) / 1_000_000).round(2))\n",
    "loss_prob = (bootstrap_profit_list < 0).mean()\n",
    "\n",
    "print(f'Средняя прибыль для второго региона составляет {mean_profit / 1_000_000:.2f} млн. руб, \\n\\\n",
    "95% доверительный интервал находится в диапазоне {confidence_interval_95} млн. руб, \\n\\\n",
    "Риск убытков составляет {loss_prob:.2%}.')"
   ]
  },
  {
   "cell_type": "code",
   "execution_count": 81,
   "metadata": {},
   "outputs": [
    {
     "name": "stdout",
     "output_type": "stream",
     "text": [
      "Средняя прибыль для третьего региона составляет 346.97 млн. руб, \n",
      "95% доверительный интервал находится в диапазоне (-146.28, 833.89) млн. руб, \n",
      "Риск убытков составляет 9.70%.\n"
     ]
    }
   ],
   "source": [
    "# Рассчеты для третьего региона\n",
    "\n",
    "random = np.random.RandomState(123)\n",
    "\n",
    "bootstrap_profit_list = []\n",
    "\n",
    "for i in range(1000):\n",
    "    profit = profit_calc(df3, features_with_id_3, model_3)\n",
    "    bootstrap_profit_list.append(profit)\n",
    "    \n",
    "bootstrap_profit_list = pd.Series(bootstrap_profit_list)\n",
    "mean_profit = bootstrap_profit_list.mean()\n",
    "confidence_interval_95 = ((bootstrap_profit_list.quantile(0.025) / 1_000_000).round(2), (bootstrap_profit_list.quantile(0.975) / 1_000_000).round(2))\n",
    "loss_prob = (bootstrap_profit_list < 0).mean()\n",
    "\n",
    "print(f'Средняя прибыль для третьего региона составляет {mean_profit / 1_000_000:.2f} млн. руб, \\n\\\n",
    "95% доверительный интервал находится в диапазоне {confidence_interval_95} млн. руб, \\n\\\n",
    "Риск убытков составляет {loss_prob:.2%}.')"
   ]
  },
  {
   "cell_type": "markdown",
   "metadata": {},
   "source": [
    "## Вывод"
   ]
  },
  {
   "cell_type": "markdown",
   "metadata": {},
   "source": [
    "В ходе проведенного исследования были рассмотрены три региона для выбора потенциально наиболее прибыльного региона по добыче нефти. \n",
    "\n",
    "На предоставленных данных были построены модели машинного обучения. В модели построенной на данных второго региона получилось очень низкое значение RMSE, что говорит о высоком качестве предсказаний модели. Также на графиках мы смогли обнаружить, что распределение целевого признака во втором регионе практически равномерное с выбросами в начале и в конце графика. В первом и третьем регионе нормальные распределения целевого признака c примерно одинаковыми показателями RMSE. Средний запас сырья при этом во втором регионе (69) значительно уступает первому (92) и третьему (95) регионам.\n",
    "\n",
    "Были проведены рассчеты объема добычи, необходимого для безубыточной разработки скважины. Выяснилось, что необходимый объем добычи составляет не менее 112 тыс. баррелей.\n",
    "\n",
    "\n",
    "Исходя из полученных данных и моделей, мы воспользовались техникой Bootstrap для рассчетов прибыли и рисков каждого региона. Оказалось, что из трех регионов, только второй подходит под нужный критерий вероятности рисков (меньше 2.5%), обладая вероятностью 1.9% и средней прибылью 425.28 млн. руб. Третий регион с вероятностью убытков 9.7% со средней прибылью 346.97 млн. руб, и первый регион с вероятностью 6.7% и средней прибылью 395.65 млн. руб. не подходят из за высокой степени риска."
   ]
  }
 ],
 "metadata": {
  "ExecuteTimeLog": [
   {
    "duration": 753,
    "start_time": "2022-11-05T05:41:44.678Z"
   },
   {
    "duration": 373,
    "start_time": "2022-11-05T05:42:51.865Z"
   },
   {
    "duration": 544,
    "start_time": "2022-11-05T05:43:33.255Z"
   },
   {
    "duration": 17,
    "start_time": "2022-11-05T05:43:38.985Z"
   },
   {
    "duration": 18,
    "start_time": "2022-11-05T05:48:07.274Z"
   },
   {
    "duration": 15,
    "start_time": "2022-11-05T05:52:29.541Z"
   },
   {
    "duration": 15,
    "start_time": "2022-11-05T05:52:36.425Z"
   },
   {
    "duration": 41,
    "start_time": "2022-11-05T05:53:43.856Z"
   },
   {
    "duration": 48,
    "start_time": "2022-11-05T05:53:49.630Z"
   },
   {
    "duration": 105,
    "start_time": "2022-11-05T05:54:05.634Z"
   },
   {
    "duration": 130,
    "start_time": "2022-11-05T05:54:22.117Z"
   },
   {
    "duration": 14,
    "start_time": "2022-11-05T05:55:46.017Z"
   },
   {
    "duration": 13,
    "start_time": "2022-11-05T05:55:51.360Z"
   },
   {
    "duration": 679,
    "start_time": "2022-11-05T06:14:48.733Z"
   },
   {
    "duration": 4,
    "start_time": "2022-11-05T06:28:20.707Z"
   },
   {
    "duration": 3,
    "start_time": "2022-11-05T06:29:58.436Z"
   },
   {
    "duration": 4,
    "start_time": "2022-11-05T06:30:17.798Z"
   },
   {
    "duration": 48,
    "start_time": "2022-11-05T06:30:55.655Z"
   },
   {
    "duration": 94,
    "start_time": "2022-11-05T06:31:52.052Z"
   },
   {
    "duration": 19,
    "start_time": "2022-11-05T06:31:56.460Z"
   },
   {
    "duration": 3,
    "start_time": "2022-11-05T06:32:38.107Z"
   },
   {
    "duration": 16,
    "start_time": "2022-11-05T06:32:40.403Z"
   },
   {
    "duration": 22,
    "start_time": "2022-11-05T06:34:15.407Z"
   },
   {
    "duration": 14,
    "start_time": "2022-11-05T06:40:54.911Z"
   },
   {
    "duration": 3,
    "start_time": "2022-11-05T06:41:11.184Z"
   },
   {
    "duration": 47,
    "start_time": "2022-11-05T06:42:19.096Z"
   },
   {
    "duration": 29,
    "start_time": "2022-11-05T06:42:29.672Z"
   },
   {
    "duration": 92,
    "start_time": "2022-11-05T06:46:31.349Z"
   },
   {
    "duration": 204,
    "start_time": "2022-11-05T06:47:12.836Z"
   },
   {
    "duration": 28,
    "start_time": "2022-11-05T06:47:25.822Z"
   },
   {
    "duration": 23,
    "start_time": "2022-11-05T06:47:44.567Z"
   },
   {
    "duration": 23,
    "start_time": "2022-11-05T06:48:39.274Z"
   },
   {
    "duration": 26,
    "start_time": "2022-11-05T06:49:01.864Z"
   },
   {
    "duration": 23,
    "start_time": "2022-11-05T06:49:05.173Z"
   },
   {
    "duration": 26,
    "start_time": "2022-11-05T06:49:27.955Z"
   },
   {
    "duration": 57,
    "start_time": "2022-11-05T06:49:34.082Z"
   },
   {
    "duration": 34,
    "start_time": "2022-11-05T06:50:09.505Z"
   },
   {
    "duration": 97,
    "start_time": "2022-11-05T06:50:34.543Z"
   },
   {
    "duration": 68,
    "start_time": "2022-11-05T06:50:38.872Z"
   },
   {
    "duration": 112,
    "start_time": "2022-11-05T06:50:53.628Z"
   },
   {
    "duration": 17,
    "start_time": "2022-11-05T06:52:07.195Z"
   },
   {
    "duration": 70,
    "start_time": "2022-11-05T06:53:16.471Z"
   },
   {
    "duration": 34,
    "start_time": "2022-11-05T06:54:31.782Z"
   },
   {
    "duration": 23,
    "start_time": "2022-11-05T06:54:45.451Z"
   },
   {
    "duration": 24,
    "start_time": "2022-11-05T06:54:52.871Z"
   },
   {
    "duration": 3,
    "start_time": "2022-11-05T06:58:45.276Z"
   },
   {
    "duration": 89,
    "start_time": "2022-11-05T06:58:47.250Z"
   },
   {
    "duration": 99,
    "start_time": "2022-11-05T06:58:50.640Z"
   },
   {
    "duration": 22,
    "start_time": "2022-11-05T06:58:54.818Z"
   },
   {
    "duration": 4,
    "start_time": "2022-11-05T06:59:02.131Z"
   },
   {
    "duration": 25,
    "start_time": "2022-11-05T06:59:04.206Z"
   },
   {
    "duration": 4,
    "start_time": "2022-11-05T06:59:10.073Z"
   },
   {
    "duration": 53,
    "start_time": "2022-11-05T06:59:11.987Z"
   },
   {
    "duration": 9,
    "start_time": "2022-11-05T07:00:40.862Z"
   },
   {
    "duration": 4,
    "start_time": "2022-11-05T07:00:47.373Z"
   },
   {
    "duration": 5,
    "start_time": "2022-11-05T07:04:12.068Z"
   },
   {
    "duration": 15,
    "start_time": "2022-11-05T07:04:18.167Z"
   },
   {
    "duration": 4,
    "start_time": "2022-11-05T07:04:57.355Z"
   },
   {
    "duration": 31,
    "start_time": "2022-11-05T07:04:59.628Z"
   },
   {
    "duration": 4,
    "start_time": "2022-11-05T07:07:20.433Z"
   },
   {
    "duration": 67,
    "start_time": "2022-11-05T07:07:22.475Z"
   },
   {
    "duration": 30,
    "start_time": "2022-11-05T07:07:30.061Z"
   },
   {
    "duration": 3,
    "start_time": "2022-11-05T07:08:42.285Z"
   },
   {
    "duration": 96,
    "start_time": "2022-11-05T07:08:47.644Z"
   },
   {
    "duration": 15,
    "start_time": "2022-11-05T07:10:30.131Z"
   },
   {
    "duration": 14,
    "start_time": "2022-11-05T07:13:24.529Z"
   },
   {
    "duration": 43,
    "start_time": "2022-11-05T07:13:40.473Z"
   },
   {
    "duration": 32,
    "start_time": "2022-11-05T07:15:52.542Z"
   },
   {
    "duration": 26,
    "start_time": "2022-11-05T07:16:34.243Z"
   },
   {
    "duration": 30,
    "start_time": "2022-11-05T07:19:10.966Z"
   },
   {
    "duration": 20,
    "start_time": "2022-11-05T07:19:52.861Z"
   },
   {
    "duration": 4,
    "start_time": "2022-11-05T07:20:43.810Z"
   },
   {
    "duration": 129,
    "start_time": "2022-11-05T07:20:45.514Z"
   },
   {
    "duration": 51,
    "start_time": "2022-11-05T07:20:47.298Z"
   },
   {
    "duration": 34,
    "start_time": "2022-11-05T07:20:49.022Z"
   },
   {
    "duration": 30,
    "start_time": "2022-11-05T07:21:32.378Z"
   },
   {
    "duration": 31,
    "start_time": "2022-11-05T07:22:00.462Z"
   },
   {
    "duration": 34,
    "start_time": "2022-11-05T07:22:10.634Z"
   },
   {
    "duration": 117,
    "start_time": "2022-11-05T07:22:18.023Z"
   },
   {
    "duration": 65,
    "start_time": "2022-11-05T07:23:53.075Z"
   },
   {
    "duration": 39,
    "start_time": "2022-11-05T07:23:56.934Z"
   },
   {
    "duration": 3,
    "start_time": "2022-11-05T07:24:09.493Z"
   },
   {
    "duration": 476,
    "start_time": "2022-11-05T07:24:09.499Z"
   },
   {
    "duration": 15,
    "start_time": "2022-11-05T07:24:09.977Z"
   },
   {
    "duration": 16,
    "start_time": "2022-11-05T07:24:09.993Z"
   },
   {
    "duration": 35,
    "start_time": "2022-11-05T07:24:10.011Z"
   },
   {
    "duration": 147,
    "start_time": "2022-11-05T07:24:10.048Z"
   },
   {
    "duration": 4,
    "start_time": "2022-11-05T07:24:10.196Z"
   },
   {
    "duration": 57,
    "start_time": "2022-11-05T07:24:10.202Z"
   },
   {
    "duration": 201,
    "start_time": "2022-11-05T07:24:10.261Z"
   },
   {
    "duration": 206,
    "start_time": "2022-11-05T07:24:10.465Z"
   },
   {
    "duration": 186,
    "start_time": "2022-11-05T07:24:10.674Z"
   },
   {
    "duration": 3,
    "start_time": "2022-11-05T07:25:45.427Z"
   },
   {
    "duration": 331,
    "start_time": "2022-11-05T07:28:38.412Z"
   },
   {
    "duration": 307,
    "start_time": "2022-11-05T07:29:14.558Z"
   },
   {
    "duration": 467,
    "start_time": "2022-11-05T07:29:19.679Z"
   },
   {
    "duration": 393,
    "start_time": "2022-11-05T07:29:44.555Z"
   },
   {
    "duration": 729,
    "start_time": "2022-11-05T07:30:19.251Z"
   },
   {
    "duration": 1051,
    "start_time": "2022-11-05T07:31:02.991Z"
   },
   {
    "duration": 569,
    "start_time": "2022-11-05T07:31:27.796Z"
   },
   {
    "duration": 1020,
    "start_time": "2022-11-05T07:31:33.260Z"
   },
   {
    "duration": 948,
    "start_time": "2022-11-05T07:31:51.933Z"
   },
   {
    "duration": 984,
    "start_time": "2022-11-05T07:32:23.686Z"
   },
   {
    "duration": 797,
    "start_time": "2022-11-05T07:32:31.379Z"
   },
   {
    "duration": 1021,
    "start_time": "2022-11-05T07:32:56.329Z"
   },
   {
    "duration": 959,
    "start_time": "2022-11-05T07:33:00.998Z"
   },
   {
    "duration": 954,
    "start_time": "2022-11-05T07:33:04.553Z"
   },
   {
    "duration": 845,
    "start_time": "2022-11-05T07:33:15.970Z"
   },
   {
    "duration": 1036,
    "start_time": "2022-11-05T07:33:27.374Z"
   },
   {
    "duration": 884,
    "start_time": "2022-11-05T07:33:40.795Z"
   },
   {
    "duration": 1165,
    "start_time": "2022-11-05T07:33:46.516Z"
   },
   {
    "duration": 908,
    "start_time": "2022-11-05T07:33:55.422Z"
   },
   {
    "duration": 841,
    "start_time": "2022-11-05T07:38:01.265Z"
   },
   {
    "duration": 778,
    "start_time": "2022-11-05T07:40:13.405Z"
   },
   {
    "duration": 716,
    "start_time": "2022-11-05T07:40:36.796Z"
   },
   {
    "duration": 94,
    "start_time": "2022-11-05T07:41:21.952Z"
   },
   {
    "duration": 30,
    "start_time": "2022-11-05T07:50:18.073Z"
   },
   {
    "duration": 30,
    "start_time": "2022-11-05T07:50:56.987Z"
   },
   {
    "duration": 42,
    "start_time": "2022-11-05T07:51:09.409Z"
   },
   {
    "duration": 47,
    "start_time": "2022-11-05T08:03:12.893Z"
   },
   {
    "duration": 29,
    "start_time": "2022-11-05T08:03:22.098Z"
   },
   {
    "duration": 30,
    "start_time": "2022-11-05T08:03:34.085Z"
   },
   {
    "duration": 49,
    "start_time": "2022-11-05T08:04:22.593Z"
   },
   {
    "duration": 35,
    "start_time": "2022-11-05T08:05:07.026Z"
   },
   {
    "duration": 29,
    "start_time": "2022-11-05T08:05:40.397Z"
   },
   {
    "duration": 573,
    "start_time": "2022-11-05T08:06:26.958Z"
   },
   {
    "duration": 30,
    "start_time": "2022-11-05T08:06:35.151Z"
   },
   {
    "duration": 130,
    "start_time": "2022-11-05T08:06:36.897Z"
   },
   {
    "duration": 156,
    "start_time": "2022-11-05T08:06:45.811Z"
   },
   {
    "duration": 38,
    "start_time": "2022-11-05T08:06:50.639Z"
   },
   {
    "duration": 132,
    "start_time": "2022-11-05T08:07:02.251Z"
   },
   {
    "duration": 73,
    "start_time": "2022-11-05T08:07:25.765Z"
   },
   {
    "duration": 28,
    "start_time": "2022-11-05T08:07:26.886Z"
   },
   {
    "duration": 141,
    "start_time": "2022-11-05T08:07:27.970Z"
   },
   {
    "duration": 456,
    "start_time": "2022-11-05T08:23:06.693Z"
   },
   {
    "duration": 1063,
    "start_time": "2022-11-05T08:23:23.628Z"
   },
   {
    "duration": 7,
    "start_time": "2022-11-05T08:23:33.434Z"
   },
   {
    "duration": 450,
    "start_time": "2022-11-05T08:28:56.355Z"
   },
   {
    "duration": 14,
    "start_time": "2022-11-05T08:29:11.673Z"
   },
   {
    "duration": 13,
    "start_time": "2022-11-05T08:34:20.898Z"
   },
   {
    "duration": 4,
    "start_time": "2022-11-05T08:35:19.364Z"
   },
   {
    "duration": 58,
    "start_time": "2022-11-05T08:35:27.626Z"
   },
   {
    "duration": 22,
    "start_time": "2022-11-05T08:36:45.539Z"
   },
   {
    "duration": 39,
    "start_time": "2022-11-05T08:36:48.365Z"
   },
   {
    "duration": 4,
    "start_time": "2022-11-05T08:37:44.388Z"
   },
   {
    "duration": 33,
    "start_time": "2022-11-05T08:37:47.155Z"
   },
   {
    "duration": 4,
    "start_time": "2022-11-05T08:38:05.648Z"
   },
   {
    "duration": 383,
    "start_time": "2022-11-05T08:38:05.655Z"
   },
   {
    "duration": 15,
    "start_time": "2022-11-05T08:38:06.040Z"
   },
   {
    "duration": 21,
    "start_time": "2022-11-05T08:38:06.058Z"
   },
   {
    "duration": 17,
    "start_time": "2022-11-05T08:38:06.080Z"
   },
   {
    "duration": 150,
    "start_time": "2022-11-05T08:38:06.098Z"
   },
   {
    "duration": 18,
    "start_time": "2022-11-05T08:38:06.251Z"
   },
   {
    "duration": 10,
    "start_time": "2022-11-05T08:38:06.270Z"
   },
   {
    "duration": 45,
    "start_time": "2022-11-05T08:38:06.282Z"
   },
   {
    "duration": 0,
    "start_time": "2022-11-05T08:38:06.330Z"
   },
   {
    "duration": 0,
    "start_time": "2022-11-05T08:38:06.331Z"
   },
   {
    "duration": 0,
    "start_time": "2022-11-05T08:38:06.346Z"
   },
   {
    "duration": 0,
    "start_time": "2022-11-05T08:38:06.352Z"
   },
   {
    "duration": 0,
    "start_time": "2022-11-05T08:38:06.353Z"
   },
   {
    "duration": 0,
    "start_time": "2022-11-05T08:38:06.354Z"
   },
   {
    "duration": 415,
    "start_time": "2022-11-05T08:38:38.175Z"
   },
   {
    "duration": 7,
    "start_time": "2022-11-05T08:42:33.450Z"
   },
   {
    "duration": 32,
    "start_time": "2022-11-05T08:42:38.352Z"
   },
   {
    "duration": 5,
    "start_time": "2022-11-05T08:43:08.858Z"
   },
   {
    "duration": 39,
    "start_time": "2022-11-05T08:43:10.930Z"
   },
   {
    "duration": 5,
    "start_time": "2022-11-05T08:45:50.958Z"
   },
   {
    "duration": 48,
    "start_time": "2022-11-05T08:45:57.690Z"
   },
   {
    "duration": 22,
    "start_time": "2022-11-05T08:46:02.947Z"
   },
   {
    "duration": 3,
    "start_time": "2022-11-05T08:46:07.062Z"
   },
   {
    "duration": 439,
    "start_time": "2022-11-05T08:46:07.067Z"
   },
   {
    "duration": 15,
    "start_time": "2022-11-05T08:46:07.508Z"
   },
   {
    "duration": 26,
    "start_time": "2022-11-05T08:46:07.525Z"
   },
   {
    "duration": 14,
    "start_time": "2022-11-05T08:46:07.553Z"
   },
   {
    "duration": 128,
    "start_time": "2022-11-05T08:46:07.569Z"
   },
   {
    "duration": 13,
    "start_time": "2022-11-05T08:46:07.699Z"
   },
   {
    "duration": 7,
    "start_time": "2022-11-05T08:46:07.714Z"
   },
   {
    "duration": 38,
    "start_time": "2022-11-05T08:46:07.723Z"
   },
   {
    "duration": 296,
    "start_time": "2022-11-05T08:46:07.764Z"
   },
   {
    "duration": 27,
    "start_time": "2022-11-05T08:46:08.062Z"
   },
   {
    "duration": 218,
    "start_time": "2022-11-05T08:46:08.140Z"
   },
   {
    "duration": 23,
    "start_time": "2022-11-05T08:46:08.360Z"
   },
   {
    "duration": 217,
    "start_time": "2022-11-05T08:46:08.440Z"
   },
   {
    "duration": 818,
    "start_time": "2022-11-05T08:46:08.659Z"
   },
   {
    "duration": 1467,
    "start_time": "2022-11-05T10:57:23.708Z"
   },
   {
    "duration": 1866,
    "start_time": "2022-11-05T10:57:25.177Z"
   },
   {
    "duration": 14,
    "start_time": "2022-11-05T10:57:27.044Z"
   },
   {
    "duration": 11,
    "start_time": "2022-11-05T10:57:27.060Z"
   },
   {
    "duration": 12,
    "start_time": "2022-11-05T10:57:27.073Z"
   },
   {
    "duration": 119,
    "start_time": "2022-11-05T10:57:27.087Z"
   },
   {
    "duration": 21,
    "start_time": "2022-11-05T10:57:27.207Z"
   },
   {
    "duration": 6,
    "start_time": "2022-11-05T10:57:27.230Z"
   },
   {
    "duration": 27,
    "start_time": "2022-11-05T10:57:27.238Z"
   },
   {
    "duration": 218,
    "start_time": "2022-11-05T10:57:27.324Z"
   },
   {
    "duration": 23,
    "start_time": "2022-11-05T10:57:27.543Z"
   },
   {
    "duration": 294,
    "start_time": "2022-11-05T10:57:27.569Z"
   },
   {
    "duration": 58,
    "start_time": "2022-11-05T10:57:27.865Z"
   },
   {
    "duration": 213,
    "start_time": "2022-11-05T10:57:27.925Z"
   },
   {
    "duration": 3,
    "start_time": "2022-11-05T11:08:00.805Z"
   },
   {
    "duration": 4,
    "start_time": "2022-11-05T11:08:10.300Z"
   },
   {
    "duration": 4,
    "start_time": "2022-11-05T11:11:41.839Z"
   },
   {
    "duration": 4,
    "start_time": "2022-11-05T11:11:50.952Z"
   },
   {
    "duration": 5,
    "start_time": "2022-11-05T11:21:25.040Z"
   },
   {
    "duration": 5,
    "start_time": "2022-11-05T11:21:50.330Z"
   },
   {
    "duration": 4,
    "start_time": "2022-11-05T11:22:04.647Z"
   },
   {
    "duration": 5,
    "start_time": "2022-11-05T11:22:21.806Z"
   },
   {
    "duration": 45,
    "start_time": "2022-11-06T03:26:16.041Z"
   },
   {
    "duration": 1353,
    "start_time": "2022-11-06T03:27:09.691Z"
   },
   {
    "duration": 710,
    "start_time": "2022-11-06T03:27:11.047Z"
   },
   {
    "duration": 14,
    "start_time": "2022-11-06T03:27:11.759Z"
   },
   {
    "duration": 12,
    "start_time": "2022-11-06T03:27:11.774Z"
   },
   {
    "duration": 13,
    "start_time": "2022-11-06T03:27:11.788Z"
   },
   {
    "duration": 128,
    "start_time": "2022-11-06T03:27:11.802Z"
   },
   {
    "duration": 13,
    "start_time": "2022-11-06T03:27:11.932Z"
   },
   {
    "duration": 3,
    "start_time": "2022-11-06T03:27:11.947Z"
   },
   {
    "duration": 41,
    "start_time": "2022-11-06T03:27:11.951Z"
   },
   {
    "duration": 292,
    "start_time": "2022-11-06T03:27:11.994Z"
   },
   {
    "duration": 23,
    "start_time": "2022-11-06T03:27:12.288Z"
   },
   {
    "duration": 277,
    "start_time": "2022-11-06T03:27:12.313Z"
   },
   {
    "duration": 87,
    "start_time": "2022-11-06T03:27:12.592Z"
   },
   {
    "duration": 232,
    "start_time": "2022-11-06T03:27:12.682Z"
   },
   {
    "duration": 3,
    "start_time": "2022-11-06T03:27:12.916Z"
   },
   {
    "duration": 18,
    "start_time": "2022-11-06T03:27:12.920Z"
   },
   {
    "duration": 20,
    "start_time": "2022-11-06T03:27:12.940Z"
   },
   {
    "duration": 19,
    "start_time": "2022-11-06T03:27:12.961Z"
   },
   {
    "duration": 63,
    "start_time": "2022-11-06T03:34:29.103Z"
   },
   {
    "duration": 8,
    "start_time": "2022-11-06T03:34:46.075Z"
   },
   {
    "duration": 7,
    "start_time": "2022-11-06T03:41:46.741Z"
   },
   {
    "duration": 8,
    "start_time": "2022-11-06T03:42:06.569Z"
   },
   {
    "duration": 7,
    "start_time": "2022-11-06T03:42:12.765Z"
   },
   {
    "duration": 7,
    "start_time": "2022-11-06T03:43:04.245Z"
   },
   {
    "duration": 7,
    "start_time": "2022-11-06T03:43:11.494Z"
   },
   {
    "duration": 8,
    "start_time": "2022-11-06T03:43:15.593Z"
   },
   {
    "duration": 7,
    "start_time": "2022-11-06T03:43:18.258Z"
   },
   {
    "duration": 7,
    "start_time": "2022-11-06T03:43:27.244Z"
   },
   {
    "duration": 8,
    "start_time": "2022-11-06T03:44:08.910Z"
   },
   {
    "duration": 8,
    "start_time": "2022-11-06T03:44:15.456Z"
   },
   {
    "duration": 8,
    "start_time": "2022-11-06T03:44:21.602Z"
   },
   {
    "duration": 7,
    "start_time": "2022-11-06T03:45:32.089Z"
   },
   {
    "duration": 7,
    "start_time": "2022-11-06T03:45:53.272Z"
   },
   {
    "duration": 8,
    "start_time": "2022-11-06T03:46:02.045Z"
   },
   {
    "duration": 6,
    "start_time": "2022-11-06T03:47:37.705Z"
   },
   {
    "duration": 6,
    "start_time": "2022-11-06T03:47:43.338Z"
   },
   {
    "duration": 8,
    "start_time": "2022-11-06T03:47:46.726Z"
   },
   {
    "duration": 8,
    "start_time": "2022-11-06T03:48:16.405Z"
   },
   {
    "duration": 7,
    "start_time": "2022-11-06T03:48:34.977Z"
   },
   {
    "duration": 4,
    "start_time": "2022-11-06T03:51:42.812Z"
   },
   {
    "duration": 3,
    "start_time": "2022-11-06T03:52:53.199Z"
   },
   {
    "duration": 8,
    "start_time": "2022-11-06T03:55:17.337Z"
   },
   {
    "duration": 13,
    "start_time": "2022-11-06T04:01:46.573Z"
   },
   {
    "duration": 51,
    "start_time": "2022-11-06T04:01:53.480Z"
   },
   {
    "duration": 5,
    "start_time": "2022-11-06T04:02:05.076Z"
   },
   {
    "duration": 8,
    "start_time": "2022-11-06T04:02:12.915Z"
   },
   {
    "duration": 6,
    "start_time": "2022-11-06T04:02:24.040Z"
   },
   {
    "duration": 7,
    "start_time": "2022-11-06T04:02:32.062Z"
   },
   {
    "duration": 4,
    "start_time": "2022-11-06T04:02:38.448Z"
   },
   {
    "duration": 8,
    "start_time": "2022-11-06T04:02:42.793Z"
   },
   {
    "duration": 46,
    "start_time": "2022-11-06T04:02:46.619Z"
   },
   {
    "duration": 41,
    "start_time": "2022-11-06T04:02:53.800Z"
   },
   {
    "duration": 50,
    "start_time": "2022-11-06T04:03:08.640Z"
   },
   {
    "duration": 39,
    "start_time": "2022-11-06T04:03:20.153Z"
   },
   {
    "duration": 7,
    "start_time": "2022-11-06T04:03:24.448Z"
   },
   {
    "duration": 8,
    "start_time": "2022-11-06T04:04:02.372Z"
   },
   {
    "duration": 8,
    "start_time": "2022-11-06T04:04:05.559Z"
   },
   {
    "duration": 7,
    "start_time": "2022-11-06T04:04:09.412Z"
   },
   {
    "duration": 12,
    "start_time": "2022-11-06T04:04:18.276Z"
   },
   {
    "duration": 8,
    "start_time": "2022-11-06T04:04:22.121Z"
   },
   {
    "duration": 8,
    "start_time": "2022-11-06T04:04:49.176Z"
   },
   {
    "duration": 7,
    "start_time": "2022-11-06T04:04:52.404Z"
   },
   {
    "duration": 7,
    "start_time": "2022-11-06T04:04:55.609Z"
   },
   {
    "duration": 7,
    "start_time": "2022-11-06T04:04:58.196Z"
   },
   {
    "duration": 8,
    "start_time": "2022-11-06T04:05:01.011Z"
   },
   {
    "duration": 8,
    "start_time": "2022-11-06T04:05:04.045Z"
   },
   {
    "duration": 6,
    "start_time": "2022-11-06T04:05:09.956Z"
   },
   {
    "duration": 7,
    "start_time": "2022-11-06T04:05:14.816Z"
   },
   {
    "duration": 8,
    "start_time": "2022-11-06T04:05:49.476Z"
   },
   {
    "duration": 7,
    "start_time": "2022-11-06T04:05:53.412Z"
   },
   {
    "duration": 13,
    "start_time": "2022-11-06T04:05:57.194Z"
   },
   {
    "duration": 8,
    "start_time": "2022-11-06T04:06:04.466Z"
   },
   {
    "duration": 7,
    "start_time": "2022-11-06T04:06:43.833Z"
   },
   {
    "duration": 7,
    "start_time": "2022-11-06T04:06:48.430Z"
   },
   {
    "duration": 7,
    "start_time": "2022-11-06T04:06:57.902Z"
   },
   {
    "duration": 7,
    "start_time": "2022-11-06T04:07:05.617Z"
   },
   {
    "duration": 9,
    "start_time": "2022-11-06T04:07:08.581Z"
   },
   {
    "duration": 7,
    "start_time": "2022-11-06T04:07:14.194Z"
   },
   {
    "duration": 6,
    "start_time": "2022-11-06T04:07:27.156Z"
   },
   {
    "duration": 6,
    "start_time": "2022-11-06T04:07:33.127Z"
   },
   {
    "duration": 7,
    "start_time": "2022-11-06T04:07:36.046Z"
   },
   {
    "duration": 8,
    "start_time": "2022-11-06T04:09:00.969Z"
   },
   {
    "duration": 13,
    "start_time": "2022-11-06T04:09:07.989Z"
   },
   {
    "duration": 7,
    "start_time": "2022-11-06T04:09:11.697Z"
   },
   {
    "duration": 8,
    "start_time": "2022-11-06T04:09:19.411Z"
   },
   {
    "duration": 8,
    "start_time": "2022-11-06T04:10:06.210Z"
   },
   {
    "duration": 7,
    "start_time": "2022-11-06T04:12:45.771Z"
   },
   {
    "duration": 8,
    "start_time": "2022-11-06T04:15:21.237Z"
   },
   {
    "duration": 7,
    "start_time": "2022-11-06T04:15:25.439Z"
   },
   {
    "duration": 6,
    "start_time": "2022-11-06T04:15:29.545Z"
   },
   {
    "duration": 7,
    "start_time": "2022-11-06T04:17:17.861Z"
   },
   {
    "duration": 8,
    "start_time": "2022-11-06T04:17:45.480Z"
   },
   {
    "duration": 10,
    "start_time": "2022-11-06T04:18:21.641Z"
   },
   {
    "duration": 7,
    "start_time": "2022-11-06T04:19:47.405Z"
   },
   {
    "duration": 6,
    "start_time": "2022-11-06T04:19:48.949Z"
   },
   {
    "duration": 9,
    "start_time": "2022-11-06T04:19:50.437Z"
   },
   {
    "duration": 3,
    "start_time": "2022-11-06T04:27:34.601Z"
   },
   {
    "duration": 4,
    "start_time": "2022-11-06T05:27:20.099Z"
   },
   {
    "duration": 7,
    "start_time": "2022-11-06T05:28:55.032Z"
   },
   {
    "duration": 8,
    "start_time": "2022-11-06T05:29:32.287Z"
   },
   {
    "duration": 8,
    "start_time": "2022-11-06T05:32:30.824Z"
   },
   {
    "duration": 7,
    "start_time": "2022-11-06T05:32:37.248Z"
   },
   {
    "duration": 8,
    "start_time": "2022-11-06T05:32:53.791Z"
   },
   {
    "duration": 2425,
    "start_time": "2022-11-06T06:29:04.095Z"
   },
   {
    "duration": 68,
    "start_time": "2022-11-06T06:30:16.583Z"
   },
   {
    "duration": 2322,
    "start_time": "2022-11-06T06:30:31.791Z"
   },
   {
    "duration": 2362,
    "start_time": "2022-11-06T06:34:20.117Z"
   },
   {
    "duration": 2268,
    "start_time": "2022-11-06T06:36:32.484Z"
   },
   {
    "duration": 2237,
    "start_time": "2022-11-06T06:37:08.865Z"
   },
   {
    "duration": 2343,
    "start_time": "2022-11-06T06:38:23.761Z"
   },
   {
    "duration": 2317,
    "start_time": "2022-11-06T06:38:47.023Z"
   },
   {
    "duration": 2380,
    "start_time": "2022-11-06T06:40:10.769Z"
   },
   {
    "duration": 2407,
    "start_time": "2022-11-06T06:40:20.467Z"
   },
   {
    "duration": 2313,
    "start_time": "2022-11-06T06:40:54.146Z"
   },
   {
    "duration": 2329,
    "start_time": "2022-11-06T06:41:24.299Z"
   },
   {
    "duration": 2325,
    "start_time": "2022-11-06T06:43:30.508Z"
   },
   {
    "duration": 2345,
    "start_time": "2022-11-06T06:45:56.748Z"
   },
   {
    "duration": 2375,
    "start_time": "2022-11-06T07:01:20.427Z"
   },
   {
    "duration": 2342,
    "start_time": "2022-11-06T07:01:27.565Z"
   },
   {
    "duration": 2426,
    "start_time": "2022-11-06T07:02:00.861Z"
   },
   {
    "duration": 2295,
    "start_time": "2022-11-06T07:02:08.201Z"
   },
   {
    "duration": 2340,
    "start_time": "2022-11-06T07:05:35.454Z"
   },
   {
    "duration": 2413,
    "start_time": "2022-11-06T07:05:43.657Z"
   },
   {
    "duration": 2468,
    "start_time": "2022-11-06T07:15:04.829Z"
   },
   {
    "duration": 2327,
    "start_time": "2022-11-06T07:19:37.770Z"
   },
   {
    "duration": 51,
    "start_time": "2022-11-06T07:24:03.220Z"
   },
   {
    "duration": 2301,
    "start_time": "2022-11-06T07:24:08.028Z"
   },
   {
    "duration": 2332,
    "start_time": "2022-11-06T07:24:17.522Z"
   },
   {
    "duration": 2358,
    "start_time": "2022-11-06T07:24:53.272Z"
   },
   {
    "duration": 2317,
    "start_time": "2022-11-06T07:24:57.851Z"
   },
   {
    "duration": 2301,
    "start_time": "2022-11-06T07:54:57.867Z"
   },
   {
    "duration": 2422,
    "start_time": "2022-11-06T07:55:21.434Z"
   },
   {
    "duration": 2925,
    "start_time": "2022-11-06T08:04:57.995Z"
   },
   {
    "duration": 2642,
    "start_time": "2022-11-06T08:05:32.909Z"
   },
   {
    "duration": 2633,
    "start_time": "2022-11-06T08:06:00.944Z"
   },
   {
    "duration": 2331,
    "start_time": "2022-11-06T08:07:54.706Z"
   },
   {
    "duration": 2473,
    "start_time": "2022-11-06T08:08:41.795Z"
   },
   {
    "duration": 89,
    "start_time": "2022-11-06T08:20:16.690Z"
   },
   {
    "duration": 26,
    "start_time": "2022-11-06T08:20:19.180Z"
   },
   {
    "duration": 23,
    "start_time": "2022-11-06T08:20:26.890Z"
   },
   {
    "duration": 29,
    "start_time": "2022-11-06T08:33:14.046Z"
   },
   {
    "duration": 23,
    "start_time": "2022-11-06T08:33:20.418Z"
   },
   {
    "duration": 30,
    "start_time": "2022-11-06T08:33:28.225Z"
   },
   {
    "duration": 20,
    "start_time": "2022-11-06T08:35:18.352Z"
   },
   {
    "duration": 21,
    "start_time": "2022-11-06T08:36:37.774Z"
   },
   {
    "duration": 23,
    "start_time": "2022-11-06T08:36:40.827Z"
   },
   {
    "duration": 25,
    "start_time": "2022-11-06T08:36:43.492Z"
   },
   {
    "duration": 1823,
    "start_time": "2022-11-06T08:36:47.505Z"
   },
   {
    "duration": 1884,
    "start_time": "2022-11-06T08:39:34.829Z"
   },
   {
    "duration": 1831,
    "start_time": "2022-11-06T08:39:40.713Z"
   },
   {
    "duration": 4,
    "start_time": "2022-11-06T08:41:26.413Z"
   },
   {
    "duration": 382,
    "start_time": "2022-11-06T08:41:26.419Z"
   },
   {
    "duration": 15,
    "start_time": "2022-11-06T08:41:26.803Z"
   },
   {
    "duration": 14,
    "start_time": "2022-11-06T08:41:26.819Z"
   },
   {
    "duration": 13,
    "start_time": "2022-11-06T08:41:26.835Z"
   },
   {
    "duration": 156,
    "start_time": "2022-11-06T08:41:26.850Z"
   },
   {
    "duration": 4,
    "start_time": "2022-11-06T08:41:27.008Z"
   },
   {
    "duration": 66,
    "start_time": "2022-11-06T08:41:27.013Z"
   },
   {
    "duration": 213,
    "start_time": "2022-11-06T08:41:27.082Z"
   },
   {
    "duration": 24,
    "start_time": "2022-11-06T08:41:27.297Z"
   },
   {
    "duration": 226,
    "start_time": "2022-11-06T08:41:27.377Z"
   },
   {
    "duration": 70,
    "start_time": "2022-11-06T08:41:27.606Z"
   },
   {
    "duration": 218,
    "start_time": "2022-11-06T08:41:27.679Z"
   },
   {
    "duration": 4,
    "start_time": "2022-11-06T08:41:27.899Z"
   },
   {
    "duration": 9,
    "start_time": "2022-11-06T08:41:27.905Z"
   },
   {
    "duration": 8,
    "start_time": "2022-11-06T08:41:27.916Z"
   },
   {
    "duration": 5,
    "start_time": "2022-11-06T08:41:27.926Z"
   },
   {
    "duration": 12,
    "start_time": "2022-11-06T08:41:27.932Z"
   },
   {
    "duration": 30,
    "start_time": "2022-11-06T08:41:27.946Z"
   },
   {
    "duration": 8,
    "start_time": "2022-11-06T08:41:27.978Z"
   },
   {
    "duration": 1858,
    "start_time": "2022-11-06T08:41:27.987Z"
   },
   {
    "duration": 2335,
    "start_time": "2022-11-06T08:41:29.847Z"
   },
   {
    "duration": 2289,
    "start_time": "2022-11-06T08:41:32.184Z"
   },
   {
    "duration": 36,
    "start_time": "2022-11-06T08:44:38.711Z"
   },
   {
    "duration": 25,
    "start_time": "2022-11-06T08:46:19.165Z"
   },
   {
    "duration": 33,
    "start_time": "2022-11-06T08:47:42.619Z"
   },
   {
    "duration": 25,
    "start_time": "2022-11-06T08:48:07.150Z"
   },
   {
    "duration": 27,
    "start_time": "2022-11-06T08:49:20.908Z"
   },
   {
    "duration": 71,
    "start_time": "2022-11-06T08:50:56.006Z"
   },
   {
    "duration": 29,
    "start_time": "2022-11-06T08:53:05.663Z"
   },
   {
    "duration": 363,
    "start_time": "2022-11-06T08:53:20.644Z"
   },
   {
    "duration": 325,
    "start_time": "2022-11-06T08:55:48.683Z"
   },
   {
    "duration": 1692,
    "start_time": "2022-11-06T08:58:38.004Z"
   },
   {
    "duration": 1725,
    "start_time": "2022-11-06T08:58:57.447Z"
   },
   {
    "duration": 1773,
    "start_time": "2022-11-06T08:59:17.416Z"
   },
   {
    "duration": 31,
    "start_time": "2022-11-06T09:00:05.551Z"
   },
   {
    "duration": 333,
    "start_time": "2022-11-06T09:01:49.376Z"
   },
   {
    "duration": 331,
    "start_time": "2022-11-06T09:03:49.872Z"
   },
   {
    "duration": 24,
    "start_time": "2022-11-06T09:08:34.374Z"
   },
   {
    "duration": 21,
    "start_time": "2022-11-06T09:08:38.312Z"
   },
   {
    "duration": 10,
    "start_time": "2022-11-07T06:27:00.707Z"
   },
   {
    "duration": 1536,
    "start_time": "2022-11-07T06:27:11.176Z"
   },
   {
    "duration": 616,
    "start_time": "2022-11-07T06:27:18.327Z"
   },
   {
    "duration": 3,
    "start_time": "2022-11-07T06:27:27.746Z"
   },
   {
    "duration": 369,
    "start_time": "2022-11-07T06:27:27.751Z"
   },
   {
    "duration": 14,
    "start_time": "2022-11-07T06:27:28.121Z"
   },
   {
    "duration": 17,
    "start_time": "2022-11-07T06:27:28.137Z"
   },
   {
    "duration": 32,
    "start_time": "2022-11-07T06:27:28.156Z"
   },
   {
    "duration": 115,
    "start_time": "2022-11-07T06:27:28.189Z"
   },
   {
    "duration": 4,
    "start_time": "2022-11-07T06:27:28.305Z"
   },
   {
    "duration": 143,
    "start_time": "2022-11-07T06:27:28.310Z"
   },
   {
    "duration": 0,
    "start_time": "2022-11-07T06:27:28.455Z"
   },
   {
    "duration": 0,
    "start_time": "2022-11-07T06:27:28.456Z"
   },
   {
    "duration": 0,
    "start_time": "2022-11-07T06:27:28.457Z"
   },
   {
    "duration": 0,
    "start_time": "2022-11-07T06:27:28.458Z"
   },
   {
    "duration": 0,
    "start_time": "2022-11-07T06:27:28.459Z"
   },
   {
    "duration": 0,
    "start_time": "2022-11-07T06:27:28.477Z"
   },
   {
    "duration": 0,
    "start_time": "2022-11-07T06:27:28.478Z"
   },
   {
    "duration": 0,
    "start_time": "2022-11-07T06:27:28.478Z"
   },
   {
    "duration": 0,
    "start_time": "2022-11-07T06:27:28.479Z"
   },
   {
    "duration": 0,
    "start_time": "2022-11-07T06:27:28.480Z"
   },
   {
    "duration": 0,
    "start_time": "2022-11-07T06:27:28.481Z"
   },
   {
    "duration": 0,
    "start_time": "2022-11-07T06:27:28.482Z"
   },
   {
    "duration": 0,
    "start_time": "2022-11-07T06:27:28.483Z"
   },
   {
    "duration": 0,
    "start_time": "2022-11-07T06:27:28.484Z"
   },
   {
    "duration": 0,
    "start_time": "2022-11-07T06:27:28.485Z"
   },
   {
    "duration": 8,
    "start_time": "2022-11-07T06:40:37.437Z"
   },
   {
    "duration": 47,
    "start_time": "2022-11-07T06:40:41.007Z"
   },
   {
    "duration": 4,
    "start_time": "2022-11-07T06:40:54.993Z"
   },
   {
    "duration": 31,
    "start_time": "2022-11-07T06:40:58.494Z"
   },
   {
    "duration": 5,
    "start_time": "2022-11-07T06:45:20.933Z"
   },
   {
    "duration": 32,
    "start_time": "2022-11-07T06:45:23.741Z"
   },
   {
    "duration": 5,
    "start_time": "2022-11-07T06:47:56.102Z"
   },
   {
    "duration": 299,
    "start_time": "2022-11-07T06:47:59.392Z"
   },
   {
    "duration": 319,
    "start_time": "2022-11-07T06:48:34.179Z"
   },
   {
    "duration": 303,
    "start_time": "2022-11-07T06:49:06.080Z"
   },
   {
    "duration": 18,
    "start_time": "2022-11-07T06:57:19.961Z"
   },
   {
    "duration": 4,
    "start_time": "2022-11-07T06:57:52.597Z"
   },
   {
    "duration": 2137,
    "start_time": "2022-11-07T06:58:09.309Z"
   },
   {
    "duration": 4,
    "start_time": "2022-11-07T07:22:28.868Z"
   },
   {
    "duration": 27,
    "start_time": "2022-11-07T07:23:48.557Z"
   },
   {
    "duration": 18,
    "start_time": "2022-11-07T07:25:48.231Z"
   },
   {
    "duration": 27,
    "start_time": "2022-11-07T07:27:05.371Z"
   },
   {
    "duration": 25,
    "start_time": "2022-11-07T07:29:17.678Z"
   },
   {
    "duration": 6203,
    "start_time": "2022-11-07T07:30:58.338Z"
   },
   {
    "duration": 5,
    "start_time": "2022-11-07T07:34:30.359Z"
   },
   {
    "duration": 6008,
    "start_time": "2022-11-07T07:34:48.751Z"
   },
   {
    "duration": 6446,
    "start_time": "2022-11-07T07:36:25.224Z"
   },
   {
    "duration": 6356,
    "start_time": "2022-11-07T07:37:11.657Z"
   },
   {
    "duration": 6185,
    "start_time": "2022-11-07T07:38:17.868Z"
   },
   {
    "duration": 6135,
    "start_time": "2022-11-07T07:40:54.909Z"
   },
   {
    "duration": 6116,
    "start_time": "2022-11-07T07:42:18.149Z"
   },
   {
    "duration": 6106,
    "start_time": "2022-11-07T07:43:54.380Z"
   },
   {
    "duration": 5977,
    "start_time": "2022-11-07T07:45:49.874Z"
   },
   {
    "duration": 4,
    "start_time": "2022-11-07T07:47:09.498Z"
   },
   {
    "duration": 6438,
    "start_time": "2022-11-07T07:47:17.881Z"
   },
   {
    "duration": 6481,
    "start_time": "2022-11-07T07:47:43.146Z"
   },
   {
    "duration": 6615,
    "start_time": "2022-11-07T07:48:03.288Z"
   },
   {
    "duration": 6167,
    "start_time": "2022-11-07T07:49:31.621Z"
   },
   {
    "duration": 6451,
    "start_time": "2022-11-07T07:50:41.021Z"
   },
   {
    "duration": 3,
    "start_time": "2022-11-07T08:06:16.778Z"
   },
   {
    "duration": 393,
    "start_time": "2022-11-07T08:06:16.782Z"
   },
   {
    "duration": 15,
    "start_time": "2022-11-07T08:06:17.177Z"
   },
   {
    "duration": 25,
    "start_time": "2022-11-07T08:06:17.193Z"
   },
   {
    "duration": 20,
    "start_time": "2022-11-07T08:06:17.220Z"
   },
   {
    "duration": 116,
    "start_time": "2022-11-07T08:06:17.242Z"
   },
   {
    "duration": 4,
    "start_time": "2022-11-07T08:06:17.360Z"
   },
   {
    "duration": 323,
    "start_time": "2022-11-07T08:06:17.366Z"
   },
   {
    "duration": 300,
    "start_time": "2022-11-07T08:06:17.691Z"
   },
   {
    "duration": 301,
    "start_time": "2022-11-07T08:06:17.993Z"
   },
   {
    "duration": 4,
    "start_time": "2022-11-07T08:06:18.297Z"
   },
   {
    "duration": 11,
    "start_time": "2022-11-07T08:06:18.303Z"
   },
   {
    "duration": 6,
    "start_time": "2022-11-07T08:06:18.316Z"
   },
   {
    "duration": 5,
    "start_time": "2022-11-07T08:06:18.324Z"
   },
   {
    "duration": 13,
    "start_time": "2022-11-07T08:06:18.331Z"
   },
   {
    "duration": 0,
    "start_time": "2022-11-07T08:06:18.346Z"
   },
   {
    "duration": 0,
    "start_time": "2022-11-07T08:06:18.348Z"
   },
   {
    "duration": 0,
    "start_time": "2022-11-07T08:06:18.349Z"
   },
   {
    "duration": 0,
    "start_time": "2022-11-07T08:06:18.377Z"
   },
   {
    "duration": 1,
    "start_time": "2022-11-07T08:06:18.378Z"
   },
   {
    "duration": 0,
    "start_time": "2022-11-07T08:06:18.380Z"
   },
   {
    "duration": 3,
    "start_time": "2022-11-07T08:07:30.041Z"
   },
   {
    "duration": 377,
    "start_time": "2022-11-07T08:07:30.047Z"
   },
   {
    "duration": 14,
    "start_time": "2022-11-07T08:07:30.427Z"
   },
   {
    "duration": 28,
    "start_time": "2022-11-07T08:07:30.443Z"
   },
   {
    "duration": 27,
    "start_time": "2022-11-07T08:07:30.473Z"
   },
   {
    "duration": 125,
    "start_time": "2022-11-07T08:07:30.502Z"
   },
   {
    "duration": 4,
    "start_time": "2022-11-07T08:07:30.629Z"
   },
   {
    "duration": 349,
    "start_time": "2022-11-07T08:07:30.635Z"
   },
   {
    "duration": 327,
    "start_time": "2022-11-07T08:07:30.986Z"
   },
   {
    "duration": 265,
    "start_time": "2022-11-07T08:07:31.315Z"
   },
   {
    "duration": 4,
    "start_time": "2022-11-07T08:07:31.582Z"
   },
   {
    "duration": 31,
    "start_time": "2022-11-07T08:07:31.588Z"
   },
   {
    "duration": 21,
    "start_time": "2022-11-07T08:07:31.621Z"
   },
   {
    "duration": 11,
    "start_time": "2022-11-07T08:07:31.644Z"
   },
   {
    "duration": 18,
    "start_time": "2022-11-07T08:07:31.656Z"
   },
   {
    "duration": 14,
    "start_time": "2022-11-07T08:07:31.676Z"
   },
   {
    "duration": 25,
    "start_time": "2022-11-07T08:07:31.691Z"
   },
   {
    "duration": 29,
    "start_time": "2022-11-07T08:07:31.718Z"
   },
   {
    "duration": 6415,
    "start_time": "2022-11-07T08:07:31.749Z"
   },
   {
    "duration": 6368,
    "start_time": "2022-11-07T08:07:38.165Z"
   },
   {
    "duration": 6334,
    "start_time": "2022-11-07T08:07:44.535Z"
   }
  ],
  "kernelspec": {
   "display_name": "Python 3 (ipykernel)",
   "language": "python",
   "name": "python3"
  },
  "language_info": {
   "codemirror_mode": {
    "name": "ipython",
    "version": 3
   },
   "file_extension": ".py",
   "mimetype": "text/x-python",
   "name": "python",
   "nbconvert_exporter": "python",
   "pygments_lexer": "ipython3",
   "version": "3.9.15"
  },
  "toc": {
   "base_numbering": 1,
   "nav_menu": {},
   "number_sections": true,
   "sideBar": true,
   "skip_h1_title": true,
   "title_cell": "Table of Contents",
   "title_sidebar": "Contents",
   "toc_cell": false,
   "toc_position": {},
   "toc_section_display": true,
   "toc_window_display": false
  }
 },
 "nbformat": 4,
 "nbformat_minor": 4
}
